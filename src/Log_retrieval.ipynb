{
  "nbformat": 4,
  "nbformat_minor": 0,
  "metadata": {
    "colab": {
      "provenance": [],
      "authorship_tag": "ABX9TyMrvYqLJxnVshHU6T5lLxOD"
    },
    "kernelspec": {
      "name": "python3",
      "display_name": "Python 3"
    },
    "language_info": {
      "name": "python"
    }
  },
  "cells": [
    {
      "cell_type": "code",
      "execution_count": null,
      "metadata": {
        "id": "bVdc93wC5wfw"
      },
      "outputs": [],
      "source": [
        "import os\n",
        "import sys\n",
        "import zipfile\n",
        "from collections import defaultdict"
      ]
    },
    {
      "cell_type": "code",
      "source": [
        "def extract_zip(zip_path, extract_to=\"logs\"):\n",
        "    \"\"\"\n",
        "    Extracts a ZIP file to the specified directory.\n",
        "\n",
        "    :param zip_path: Path to the ZIP file\n",
        "    :param extract_to: Directory to extract files to\n",
        "    :return: Path of the extracted log file (assumes a single large log file)\n",
        "    \"\"\"\n",
        "    if not os.path.exists(extract_to):\n",
        "        os.makedirs(extract_to)\n",
        "\n",
        "    with zipfile.ZipFile(zip_path, \"r\") as zip_ref:\n",
        "        zip_ref.extractall(extract_to)  # Extract ZIP contents\n",
        "\n",
        "    extracted_files = os.listdir(extract_to)\n",
        "    if not extracted_files:\n",
        "        print(\"❌ No files found in the ZIP archive.\")\n",
        "        sys.exit(1)\n",
        "\n",
        "    # Assume the first extracted file is the log file (adjust if needed)\n",
        "    log_file = os.path.join(extract_to, extracted_files[0])\n",
        "    print(f\"✅ Log file extracted: {log_file}\")\n",
        "\n",
        "    return log_file"
      ],
      "metadata": {
        "id": "Td7MHfjV50_J"
      },
      "execution_count": null,
      "outputs": []
    },
    {
      "cell_type": "code",
      "source": [
        "def extract_logs_by_date(log_file):\n",
        "    \"\"\"\n",
        "    Reads a large log file (~1TB) and extracts logs for each day into separate output files.\n",
        "\n",
        "    :param log_file: Path to the extracted log file\n",
        "    \"\"\"\n",
        "    output_dir = \"output\"\n",
        "    os.makedirs(output_dir, exist_ok=True)  # Ensure output directory exists\n",
        "\n",
        "    file_handles = defaultdict(lambda: None)  # Dictionary for open file handles\n",
        "\n",
        "    try:\n",
        "        with open(log_file, \"r\", encoding=\"utf-8\") as infile:\n",
        "            for line in infile:\n",
        "                date = line.split(\" \")[0]  # Extract YYYY-MM-DD from log entry\n",
        "\n",
        "                if file_handles[date] is None:  # Open a new file for this date if not already open\n",
        "                    file_handles[date] = open(os.path.join(output_dir, f\"output_{date}.txt\"), \"w\", encoding=\"utf-8\")\n",
        "\n",
        "                file_handles[date].write(line)  # Write log entry to the corresponding file\n",
        "\n",
        "        print(f\"✅ Logs for all days saved in '{output_dir}' directory.\")\n",
        "\n",
        "    except Exception as e:\n",
        "        print(f\"❌ Error processing log file: {e}\")\n",
        "\n",
        "    finally:\n",
        "        # Close all open file handles\n",
        "        for f in file_handles.values():\n",
        "            if f:\n",
        "                f.close()"
      ],
      "metadata": {
        "id": "IKCMfXIr53Xv"
      },
      "execution_count": null,
      "outputs": []
    },
    {
      "cell_type": "code",
      "source": [
        "if __name__ == \"__main__\":\n",
        "    # if len(sys.argv) != 2: # Commenting out original conditional for command-line execution\n",
        "    #     print(\"Usage: python process_logs.py <zip_file>\")\n",
        "    #     sys.exit(1)\n",
        "\n",
        "    # zip_file = sys.argv[1] # Commenting out original ZIP file path retrieval\n",
        "\n",
        "    # Provide the ZIP file path directly\n",
        "    zip_file = \"your_zip_file.zip\"  # Replace with the actual path to your ZIP file\n",
        "\n",
        "    if not os.path.exists(zip_file):\n",
        "        print(f\"❌ Error: ZIP file '{zip_file}' not found.\")\n",
        "        sys.exit(1)\n",
        "\n",
        "    # Extract ZIP and process logs\n",
        "    log_file = extract_zip(zip_file)\n",
        "    extract_logs_by_date(log_file)"
      ],
      "metadata": {
        "id": "4R9jBan356v4"
      },
      "execution_count": null,
      "outputs": []
    }
  ]
}